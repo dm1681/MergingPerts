{
 "cells": [
  {
   "cell_type": "code",
   "execution_count": 1,
   "metadata": {},
   "outputs": [],
   "source": [
    "import os\n",
    "import numpy\n",
    "import matplotlib.pyplot as plt\n",
    "%matplotlib inline\n",
    "import pdb\n",
    "import subprocess\n",
    "\n",
    "eqstell_dir = \"./final_data/runs_eqstell/\""
   ]
  },
  {
   "cell_type": "code",
   "execution_count": 2,
   "metadata": {},
   "outputs": [],
   "source": [
    "i = 0\n",
    "\n",
    "\n",
    "while i <= 24999:\n",
    "    \n",
    "    sim_name = \"%05i\"%i\n",
    "    sim_dir = eqstell_dir + sim_name\n",
    "    \n",
    "    with open(sim_dir+\"/star.in\",'r') as f:\n",
    "        content = f.read()\n",
    "        new_content = content.replace('eqtide', 'eqtide stellar')\n",
    "        \n",
    "    with open(sim_dir+'/star.in','w') as f:\n",
    "        f.write(new_content)\n",
    "    \n",
    "    \n",
    "    \n",
    "    i += 1"
   ]
  },
  {
   "cell_type": "code",
   "execution_count": 2,
   "metadata": {},
   "outputs": [
    {
     "name": "stdout",
     "output_type": "stream",
     "text": [
      "24999\t100.00%\r"
     ]
    }
   ],
   "source": [
    "i = 19090\n",
    "while i <= 24999:\n",
    "    \n",
    "    sim_name = \"%05i\"%i\n",
    "    sim_dir = eqstell_dir + sim_name\n",
    "    \n",
    "    command = \"vplanet vpl.in > log\"\n",
    "    p = subprocess.call([command], shell=True, cwd = sim_dir)\n",
    "    percent = (i/24999)*100\n",
    "    print(sim_name + \"\\t%3.2f%%\"%percent,end=\"\\r\")\n",
    "    i += 1"
   ]
  },
  {
   "cell_type": "code",
   "execution_count": null,
   "metadata": {},
   "outputs": [],
   "source": []
  }
 ],
 "metadata": {
  "kernelspec": {
   "display_name": "Python 3",
   "language": "python",
   "name": "python3"
  },
  "language_info": {
   "codemirror_mode": {
    "name": "ipython",
    "version": 3
   },
   "file_extension": ".py",
   "mimetype": "text/x-python",
   "name": "python",
   "nbconvert_exporter": "python",
   "pygments_lexer": "ipython3",
   "version": "3.6.5"
  }
 },
 "nbformat": 4,
 "nbformat_minor": 2
}
