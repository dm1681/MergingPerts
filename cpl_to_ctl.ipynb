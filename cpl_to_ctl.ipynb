{
 "cells": [
  {
   "cell_type": "code",
   "execution_count": 9,
   "metadata": {
    "collapsed": true
   },
   "outputs": [],
   "source": [
    "import numpy as np\n",
    "import matplotlib.pyplot as plt\n",
    "%matplotlib inline\n",
    "import os\n",
    "import subprocess\n",
    "import pdb\n",
    "import astropy.units as u\n",
    "import astropy.constants as const"
   ]
  },
  {
   "cell_type": "code",
   "execution_count": 21,
   "metadata": {
    "collapsed": true
   },
   "outputs": [],
   "source": [
    "def calc_tau(semi, planet_mass, star_mass, Q_planet):\n",
    "    period = np.sqrt( (semi**3 * 4 * np.pi**2) / (const.G * (planet_mass + star_mass)) )\n",
    "    n = 1/period\n",
    "    tau = 1/(Q_planet * n)\n",
    "    return tau.to(u.s).value\n",
    "    "
   ]
  },
  {
   "cell_type": "code",
   "execution_count": 24,
   "metadata": {},
   "outputs": [],
   "source": [
    "# lets make the ctl files\n",
    "eqtide_cpl_dir = './final_data/runs_eq_only/'\n",
    "eqtide_ctl_dir = './final_data/eqtide_ctl/'\n",
    "\n",
    "i = 0\n",
    "n = 25000\n",
    "while i <= n-1:\n",
    "    folder_name = \"%05i\"%(i)\n",
    "    working_dir = eqtide_cpl_dir + folder_name\n",
    "    #copy input files\n",
    "    mkdir_command = 'mkdir '+eqtide_ctl_dir+folder_name+'/'\n",
    "    copy_command = 'cp ' + working_dir + '/*.in '+eqtide_ctl_dir+folder_name+'/'\n",
    "    mkdir = copy = subprocess.call(mkdir_command, shell=True, cwd = './')\n",
    "    copy = subprocess.call(copy_command, shell=True, cwd = './')\n",
    "    \n",
    "    b_file = open(eqtide_cpl_dir + folder_name+'/b.in','r')\n",
    "    b_content = b_file.readlines()\n",
    "    star_file = open(eqtide_cpl_dir + folder_name+'/star.in','r')\n",
    "    star_content = star_file.readlines()\n",
    "    Q = float(b_content[-5].split('\\t\\t')[-1][:-1])\n",
    "    semi = float(b_content[10].split('\\t\\t')[-1][:-1]) * u.AU\n",
    "    planet_mass = float(b_content[4].split('\\t\\t')[-1][:-1])*-1 * u.earthMass\n",
    "    star_mass = float(star_content[3].split('\\t\\t')[-1][:-1]) * u.solMass\n",
    "    tau = calc_tau(semi, planet_mass, star_mass, Q)\n",
    "    tau_string = 'dTidalTau\\t' + str(tau*-1) + '\\n'\n",
    "    b_content[-5] = tau_string\n",
    "    b_content[2] = 'sTideModel\\tt8\\n'\n",
    "    star_content[-6] = 'dTidalTau\\t-100\\n'\n",
    "    \n",
    "    new_b_file = open(eqtide_ctl_dir + folder_name + '/b.in','w')\n",
    "    new_b_file.write(''.join(b_content))\n",
    "    new_star_file = open(eqtide_ctl_dir + folder_name + '/star.in','w')\n",
    "    new_star_file.write(''.join(star_content))\n",
    "    \n",
    "    star_file.close()\n",
    "    b_file.close()\n",
    "    new_b_file.close()\n",
    "    new_star_file.close()\n",
    "    \n",
    "    \n",
    "    #pdb.set_trace()\n",
    "    \n",
    "    i +=1\n",
    "\n"
   ]
  },
  {
   "cell_type": "code",
   "execution_count": 28,
   "metadata": {
    "scrolled": false
   },
   "outputs": [
    {
     "name": "stdout",
     "output_type": "stream",
     "text": [
      "24999 99.996%0000000001%%1.4200000000000002%3.508% 3.5680000000000005% 4.736%5.0520000000000005%6.032%7.000000000000001%9.616%10.152%11.796%12.36%13.232% 15.412%16.732%17.176%18.804000000000002% 20.688000000000002%20.976% 21.044% 21.296%21.748% 22.676% 26.184% 26.32%28.108%30.275999999999996% 32.5%32.68%33.064% 34.092% 36.568% 38.032%45.332%47.256% 48.288%52.532000000000004% 53.504% 53.784% 55.291999999999994% 61.136% 64.18% 64.348%64.44%66.824% 69.89999999999999% 73.98400000000001% 74.424%75.488% 76.332%77.06% 77.932% 83.25200000000001%84.64399999999999% 85.0% 86.392%86.844%90.524% 93.508% 94.868% 95.024% 95.8%97.256%\r"
     ]
    }
   ],
   "source": [
    "s = 0\n",
    "while s <= n-1:\n",
    "    name_idx = '%05i'%s\n",
    "    folder_name = name_idx\n",
    "    working_directory = eqtide_ctl_dir+folder_name+'/'\n",
    "    p = subprocess.call(['vplanet vpl.in > log'], shell=True, cwd = working_directory)\n",
    "    perc = str((s/n)*100) + '%'\n",
    "    print(s, perc, end='\\r')\n",
    "    s += 1\n",
    "    continue"
   ]
  },
  {
   "cell_type": "code",
   "execution_count": 32,
   "metadata": {},
   "outputs": [
    {
     "name": "stdout",
     "output_type": "stream",
     "text": [
      "320\n"
     ]
    },
    {
     "data": {
      "text/plain": [
       "array(['00053', '00124', '00196', '00229', '00332', '00375', '00430',\n",
       "       '00456', '00470', '00652', '00682', '00849', '01055', '01193',\n",
       "       '01294', '01315', '01365', '01413', '01479', '01547', '01570',\n",
       "       '01600', '01620', '01677', '01752', '01836', '01889', '01956',\n",
       "       '01990', '02137', '02216', '02225', '02242', '02352', '02454',\n",
       "       '02516', '02548', '02673', '02741', '02787', '02834', '02946',\n",
       "       '03009', '03071', '03140', '03275', '03312', '03434', '03460',\n",
       "       '03595', '03596', '03640', '03696', '03736', '03749', '03863',\n",
       "       '03936', '04075', '04175', '04201', '04204', '04235', '04273',\n",
       "       '04375', '04382', '04427', '04454', '04564', '04649', '04707',\n",
       "       '04966', '05121', '05130', '05209', '05275', '05289', '05335',\n",
       "       '05355', '05451', '05493', '05529', '05662', '05664', '05805',\n",
       "       '05872', '06027', '06196', '06205', '06237', '06326', '06382',\n",
       "       '06384', '06610', '06774', '06808', '06826', '06913', '07000',\n",
       "       '07116', '07118', '07279', '07421', '07440', '07523', '07570',\n",
       "       '07595', '07711', '07787', '07809', '08189', '08311', '08462',\n",
       "       '08494', '08524', '08697', '08735', '08804', '08854', '08925',\n",
       "       '08982', '09163', '09258', '09274', '09284', '09331', '09335',\n",
       "       '09569', '09582', '09710', '09863', '09870', '09911', '09978',\n",
       "       '09989', '10036', '10066', '10158', '10185', '10432', '10668',\n",
       "       '10704', '10812', '10829', '10902', '11005', '11051', '11065',\n",
       "       '11188', '11221', '11240', '11311', '11371', '11496', '11510',\n",
       "       '11863', '11913', '11933', '12041', '12066', '12124', '12318',\n",
       "       '12363', '12462', '12615', '12766', '12779', '12860', '12935',\n",
       "       '13061', '13084', '13105', '13120', '13261', '13262', '13297',\n",
       "       '13444', '13467', '13547', '13562', '13616', '13631', '13633',\n",
       "       '13719', '13734', '13848', '13927', '13999', '14032', '14034',\n",
       "       '14076', '14259', '14266', '14305', '14323', '14562', '14688',\n",
       "       '14693', '14698', '14869', '15055', '15089', '15367', '15411',\n",
       "       '15658', '15662', '15831', '15835', '15863', '15898', '15921',\n",
       "       '15991', '16113', '16177', '16219', '16352', '16354', '16537',\n",
       "       '16574', '16751', '16832', '16870', '16951', '17048', '17077',\n",
       "       '17156', '17212', '17239', '17293', '17410', '17516', '17546',\n",
       "       '17701', '17867', '17904', '17967', '18059', '18415', '18566',\n",
       "       '18627', '18756', '18856', '18869', '18906', '18991', '19068',\n",
       "       '19172', '19334', '19534', '19561', '19629', '19656', '19668',\n",
       "       '19868', '19956', '20001', '20076', '20114', '20129', '20138',\n",
       "       '20215', '20291', '20309', '20337', '20493', '20687', '20777',\n",
       "       '20879', '20983', '20990', '21045', '21098', '21105', '21130',\n",
       "       '21166', '21225', '21383', '21524', '21527', '21566', '21613',\n",
       "       '21640', '21666', '21765', '22034', '22118', '22232', '22306',\n",
       "       '22394', '22401', '22414', '22537', '22680', '22687', '22839',\n",
       "       '22988', '23214', '23366', '23458', '23542', '23547', '23585',\n",
       "       '23599', '23632', '23683', '23740', '23751', '23926', '23956',\n",
       "       '24031', '24061', '24072', '24133', '24429', '24464', '24477',\n",
       "       '24515', '24701', '24730', '24795', '24836'], dtype='<U32')"
      ]
     },
     "execution_count": 32,
     "metadata": {},
     "output_type": "execute_result"
    }
   ],
   "source": [
    "n_merges = 0\n",
    "a_merges = np.array([])\n",
    "i = 0\n",
    "while i <= n-1:\n",
    "    name_idx = '%05i'%i\n",
    "    wd = eqtide_ctl_dir + name_idx\n",
    "    log_file = open(wd+'/log','r')\n",
    "    log_content = log_file.read()\n",
    "    bMerge = log_content.find('Merge')\n",
    "    if bMerge != -1:\n",
    "        n_merges += 1\n",
    "        a_merges = np.append(a_merges, name_idx)\n",
    "    i +=1\n",
    "    \n",
    "print (n_merges)\n",
    "a_merges"
   ]
  },
  {
   "cell_type": "code",
   "execution_count": null,
   "metadata": {
    "collapsed": true
   },
   "outputs": [],
   "source": []
  }
 ],
 "metadata": {
  "kernelspec": {
   "display_name": "Python 3",
   "language": "python",
   "name": "python3"
  },
  "language_info": {
   "codemirror_mode": {
    "name": "ipython",
    "version": 3
   },
   "file_extension": ".py",
   "mimetype": "text/x-python",
   "name": "python",
   "nbconvert_exporter": "python",
   "pygments_lexer": "ipython3",
   "version": "3.6.5"
  }
 },
 "nbformat": 4,
 "nbformat_minor": 2
}
